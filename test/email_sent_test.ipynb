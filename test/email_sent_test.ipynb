{
 "cells": [
  {
   "cell_type": "code",
   "execution_count": 1,
   "metadata": {},
   "outputs": [
    {
     "name": "stdout",
     "output_type": "stream",
     "text": [
      "20180522022425 is sending ...\n",
      "20180522022425 is sent.\n"
     ]
    }
   ],
   "source": [
    "import sys\n",
    "import time\n",
    "import random\n",
    "from smtplib import SMTP\n",
    "from email.mime.text import MIMEText\n",
    "import glob\n",
    "import os\n",
    "\n",
    "# set your email address and password\n",
    "sender = \"XXX\" # your e-mail address\n",
    "passwd = \"XXX\" # your e-mail password\n",
    "\n",
    "#  Hosts:\n",
    "#  =========== ===================== ==========\n",
    "#  Service     Host                  Port\n",
    "#  =========== ===================== ==========\n",
    "#  163         smtp.163.com          25\n",
    "#  USTC mail   mail.ustc.edu.cn      25\n",
    "#  Outlook     smtp-mail.outlook.com 587\n",
    "#  Gmail       smtp.gmail.com        587\n",
    "#  =========== ===================== ==========\n",
    "\n",
    "# set the smtp server\n",
    "host = \"smtp.gmail.com\"\n",
    "port = 587\n",
    "\n",
    "# set the recipient\n",
    "recipient = 'breq-fast-tsar@ohpdmc.eri.u-tokyo.ac.jp'\n",
    "\n",
    "# read mail text as MIMEText\n",
    "mail = \"20180522022425\"\n",
    "with open(mail) as f:\n",
    "    msg = MIMEText(f.read())\n",
    "\n",
    "# define sender, recipient, subject\n",
    "msg['From'] = sender\n",
    "msg['To'] = recipient\n",
    "msg['Subject'] = 'Email automatically sent by Python'\n",
    "\n",
    "# send the email\n",
    "print(\"{} is sending ...\".format(mail))\n",
    "with SMTP(host=host, port=port) as smtp:\n",
    "    smtp.set_debuglevel(0)\n",
    "    smtp.ehlo()         # 验证 smtp 服务器\n",
    "    smtp.starttls()     # 建立加密传输\n",
    "    smtp.login(sender, passwd)\n",
    "    smtp.sendmail(sender, [recipient], msg.as_string())\n",
    "print(\"{} is sent.\".format(mail))"
   ]
  }
 ],
 "metadata": {
  "kernelspec": {
   "display_name": "Python 3",
   "language": "python",
   "name": "python3"
  },
  "language_info": {
   "codemirror_mode": {
    "name": "ipython",
    "version": 3
   },
   "file_extension": ".py",
   "mimetype": "text/x-python",
   "name": "python",
   "nbconvert_exporter": "python",
   "pygments_lexer": "ipython3",
   "version": "3.10.4"
  },
  "orig_nbformat": 4
 },
 "nbformat": 4,
 "nbformat_minor": 2
}
